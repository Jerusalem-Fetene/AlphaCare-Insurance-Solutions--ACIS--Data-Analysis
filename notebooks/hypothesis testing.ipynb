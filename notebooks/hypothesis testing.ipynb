{
 "cells": [
  {
   "cell_type": "markdown",
   "id": "925ba452",
   "metadata": {},
   "source": [
    "## A/B Hypothesis Testing (Task-3)"
   ]
  },
  {
   "cell_type": "code",
   "execution_count": 1,
   "id": "4e00b0b6",
   "metadata": {},
   "outputs": [],
   "source": [
    "import numpy as np\n",
    "import pandas as pd\n",
    "import matplotlib.pyplot as plt\n",
    "from datetime import datetime\n",
    "import seaborn as sns\n",
    "\n",
    "import warnings\n",
    "warnings.filterwarnings('ignore')"
   ]
  },
  {
   "cell_type": "code",
   "execution_count": 2,
   "id": "ccdd11b8",
   "metadata": {},
   "outputs": [],
   "source": [
    "# read the dataset using pandas\n",
    "df = pd.read_csv('E:\\KAIM 2\\KAIM2 Week 3\\Week3\\data\\MachineLearningRating_v3.txt', sep=\"|\")\n",
    "cols = df.columns"
   ]
  },
  {
   "cell_type": "code",
   "execution_count": 3,
   "id": "aec43413",
   "metadata": {},
   "outputs": [],
   "source": [
    "features = ['TotalPremium','TotalClaims', 'SumInsured']"
   ]
  },
  {
   "cell_type": "code",
   "execution_count": 4,
   "id": "2c185718",
   "metadata": {},
   "outputs": [],
   "source": [
    "df_gender = df[df['Gender'] != 'Not specified']"
   ]
  },
  {
   "cell_type": "code",
   "execution_count": 5,
   "id": "61552fd4",
   "metadata": {},
   "outputs": [
    {
     "data": {
      "text/plain": [
       "59108"
      ]
     },
     "execution_count": 5,
     "metadata": {},
     "output_type": "execute_result"
    }
   ],
   "source": [
    "len(df_gender['Gender'])"
   ]
  },
  {
   "cell_type": "code",
   "execution_count": 6,
   "id": "95b5e671",
   "metadata": {
    "scrolled": true
   },
   "outputs": [],
   "source": [
    "df_gender['Gender'] = (df_gender['Gender'] == 'Male').astype(int)\n",
    "df_gender = df_gender[['TotalPremium','TotalClaims', 'SumInsured', 'Gender']]"
   ]
  },
  {
   "cell_type": "code",
   "execution_count": 7,
   "id": "c8dc862d",
   "metadata": {},
   "outputs": [],
   "source": [
    "# importing scikit-learn library\n",
    "from sklearn.preprocessing import StandardScaler"
   ]
  },
  {
   "cell_type": "markdown",
   "id": "a82d4707",
   "metadata": {},
   "source": [
    "##### 1) There are no risk differences across provinces"
   ]
  },
  {
   "cell_type": "code",
   "execution_count": 8,
   "id": "135e2d14",
   "metadata": {},
   "outputs": [
    {
     "name": "stdout",
     "output_type": "stream",
     "text": [
      "Accept the null hypothesis. There is no a significant risk difference between Province\n"
     ]
    }
   ],
   "source": [
    "from scipy.stats import chi2_contingency, ttest_ind\n",
    "\n",
    "contingency_table = pd.crosstab(df['Province'], df['TotalClaims'])\n",
    "chi2, p_value, _, _ = chi2_contingency(contingency_table)\n",
    "\n",
    "alpha = 0.05\n",
    "\n",
    "if p_value < alpha:\n",
    "    print(\"Reject the null hypothesis. There is a significant risk diffrenece between Province\")\n",
    "else:\n",
    "    print(\"Accept the null hypothesis. There is no a significant risk difference between Province\")\n"
   ]
  },
  {
   "cell_type": "markdown",
   "id": "50f1bd95",
   "metadata": {},
   "source": [
    "##### 3) There are no significant margin (profit) difference between zip codes "
   ]
  },
  {
   "cell_type": "code",
   "execution_count": 9,
   "id": "5e9c37e1",
   "metadata": {},
   "outputs": [
    {
     "name": "stdout",
     "output_type": "stream",
     "text": [
      "Accept the null hypothesis. There is no a significant risk difference between zip codes.\n"
     ]
    }
   ],
   "source": [
    "sample1_df, sample2_df = df.sample(), df.sample()\n",
    "\n",
    "zipa_df, zipb_df = sample1_df['TotalClaims'], sample2_df['TotalClaims'] \n",
    "t_stat, p_value  = ttest_ind(zipa_df, zipb_df)\n",
    "\n",
    "alpha = 0.05\n",
    "\n",
    "if p_value < alpha:\n",
    "    print(\"Reject the null hypothesis. There is a significant risk diffrenece between zip codes.\")\n",
    "else:\n",
    "    print(\"Accept the null hypothesis. There is no a significant risk difference between zip codes.\")\n"
   ]
  },
  {
   "cell_type": "markdown",
   "id": "5022b1e9",
   "metadata": {},
   "source": [
    "##### 4) There are not significant risk difference between Women and Men"
   ]
  },
  {
   "cell_type": "code",
   "execution_count": 10,
   "id": "14dbef84",
   "metadata": {},
   "outputs": [
    {
     "name": "stdout",
     "output_type": "stream",
     "text": [
      "Accept the null hypothesis. There is no a significant risk difference between Male and woman\n"
     ]
    }
   ],
   "source": [
    "# female_outcomes = df[df['Gender'] == 'Female']['TotalClaims']\n",
    "# male_outcomes = df_gender[df['Gender'] == 1]['TotalClaims']\n",
    "\n",
    "contingency_table_gender = pd.crosstab(df['Gender'], df['TotalClaims'])\n",
    "chi2_gender, p_value_gender, _, _ = chi2_contingency(contingency_table_gender)\n",
    "\n",
    "alpha = 0.05\n",
    "\n",
    "if p_value < alpha:\n",
    "    print(\"Reject the null hypothesis. There is a significant risk diffrenece between Male and woman\")\n",
    "else:\n",
    "    print(\"Accept the null hypothesis. There is no a significant risk difference between Male and woman\")\n"
   ]
  }
 ],
 "metadata": {
  "kernelspec": {
   "display_name": "Python 3 (ipykernel)",
   "language": "python",
   "name": "python3"
  },
  "language_info": {
   "codemirror_mode": {
    "name": "ipython",
    "version": 3
   },
   "file_extension": ".py",
   "mimetype": "text/x-python",
   "name": "python",
   "nbconvert_exporter": "python",
   "pygments_lexer": "ipython3",
   "version": "3.12.5"
  }
 },
 "nbformat": 4,
 "nbformat_minor": 5
}
